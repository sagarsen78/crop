{
 "metadata": {
  "language_info": {
   "codemirror_mode": {
    "name": "ipython",
    "version": 3
   },
   "file_extension": ".py",
   "mimetype": "text/x-python",
   "name": "python",
   "nbconvert_exporter": "python",
   "pygments_lexer": "ipython3",
   "version": "3.8.8"
  },
  "orig_nbformat": 2,
  "kernelspec": {
   "name": "python388jvsc74a57bd0aff7d35daefd51cb0c9fe3a4c0bc3d379a5477445bc90179fee77e1963b8f18a",
   "display_name": "Python 3.8.8 64-bit ('base': conda)"
  }
 },
 "nbformat": 4,
 "nbformat_minor": 2,
 "cells": [
  {
   "cell_type": "code",
   "execution_count": 2,
   "metadata": {},
   "outputs": [],
   "source": [
    "from flask import Flask,render_template,request\n",
    "from flask_cors import cross_origin\n",
    "import numpy as np \n",
    "\n",
    "app=Flask(__name__)\n"
   ]
  },
  {
   "cell_type": "code",
   "execution_count": 3,
   "metadata": {},
   "outputs": [
    {
     "output_type": "stream",
     "name": "stdout",
     "text": [
      " * Serving Flask app \"__main__\" (lazy loading)\n",
      " * Environment: production\n",
      "   WARNING: This is a development server. Do not use it in a production deployment.\n",
      "   Use a production WSGI server instead.\n",
      " * Debug mode: on\n",
      " * Restarting with windowsapi reloader\n"
     ]
    },
    {
     "output_type": "error",
     "ename": "SystemExit",
     "evalue": "2",
     "traceback": [
      "An exception has occurred, use %tb to see the full traceback.\n",
      "\u001b[1;31mSystemExit\u001b[0m\u001b[1;31m:\u001b[0m 2\n"
     ]
    }
   ],
   "source": [
    "#loading the model\n",
    "import pickle\n",
    "model=pickle.load(open(r'C:\\Users\\sagar\\OneDrive\\Desktop\\crop\\RandomForest.pkl','rb'))\n",
    "@app.route('/')\n",
    "def home():\n",
    "    return render_template('home.html')\n",
    "\n",
    "@app.route('/predict',methods=['GET','POST'])\n",
    "@cross_origin()\n",
    "def predict():\n",
    "    if predict.method=='POST':\n",
    "        nmeasure=int(request.form['n'])\n",
    "        pmeasure=int(request.form['p'])\n",
    "        kmeasure=int(request.form['k'])\n",
    "        tempmeasure=int(request.form['temp'])\n",
    "        humimeasure=int(request.form['humi'])\n",
    "        phmeasure=int(request.form['ph'])\n",
    "        rainmeasure=int(request.form['rain'])\n",
    "        yhat=model.predict([[nmeasure,pmeasure,kmeasure,tempmeasure,humimeasure,phmeasure,rainmeasure]])\n",
    "        return render_template('output.html',prediction=yhat[0])\n",
    "\n",
    "if __name__=='__main__':\n",
    "    app.run(debug=True)\n"
   ]
  },
  {
   "cell_type": "code",
   "execution_count": null,
   "metadata": {},
   "outputs": [],
   "source": []
  }
 ]
}